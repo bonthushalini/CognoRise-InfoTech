{
  "nbformat": 4,
  "nbformat_minor": 0,
  "metadata": {
    "colab": {
      "provenance": []
    },
    "kernelspec": {
      "name": "python3",
      "display_name": "Python 3"
    },
    "language_info": {
      "name": "python"
    }
  },
  "cells": [
    {
      "cell_type": "markdown",
      "source": [
        "**Task-1 : House Price Prediction**"
      ],
      "metadata": {
        "id": "wquabyldIvP7"
      }
    },
    {
      "cell_type": "code",
      "execution_count": null,
      "metadata": {
        "colab": {
          "base_uri": "https://localhost:8080/"
        },
        "id": "kp_dU_pFxy-m",
        "outputId": "a1b19cab-20db-4da3-f41d-9c8544ce41fe"
      },
      "outputs": [
        {
          "output_type": "stream",
          "name": "stdout",
          "text": [
            "                  date      price  bedrooms  bathrooms  sqft_living  sqft_lot  \\\n",
            "0  2014-05-02 00:00:00   313000.0       3.0       1.50         1340      7912   \n",
            "1  2014-05-02 00:00:00  2384000.0       5.0       2.50         3650      9050   \n",
            "2  2014-05-02 00:00:00   342000.0       3.0       2.00         1930     11947   \n",
            "3  2014-05-02 00:00:00   420000.0       3.0       2.25         2000      8030   \n",
            "4  2014-05-02 00:00:00   550000.0       4.0       2.50         1940     10500   \n",
            "\n",
            "   floors  waterfront  view  condition  sqft_above  sqft_basement  yr_built  \\\n",
            "0     1.5           0     0          3        1340              0      1955   \n",
            "1     2.0           0     4          5        3370            280      1921   \n",
            "2     1.0           0     0          4        1930              0      1966   \n",
            "3     1.0           0     0          4        1000           1000      1963   \n",
            "4     1.0           0     0          4        1140            800      1976   \n",
            "\n",
            "   yr_renovated                    street       city  statezip country  \n",
            "0          2005      18810 Densmore Ave N  Shoreline  WA 98133     USA  \n",
            "1             0           709 W Blaine St    Seattle  WA 98119     USA  \n",
            "2             0  26206-26214 143rd Ave SE       Kent  WA 98042     USA  \n",
            "3             0           857 170th Pl NE   Bellevue  WA 98008     USA  \n",
            "4          1992         9105 170th Ave NE    Redmond  WA 98052     USA  \n",
            "Linear Regression RMSE: 990128.96\n"
          ]
        },
        {
          "output_type": "stream",
          "name": "stderr",
          "text": [
            "/usr/local/lib/python3.10/dist-packages/sklearn/preprocessing/_encoders.py:975: FutureWarning: `sparse` was renamed to `sparse_output` in version 1.2 and will be removed in 1.4. `sparse_output` is ignored unless you leave `sparse` to its default value.\n",
            "  warnings.warn(\n"
          ]
        },
        {
          "output_type": "stream",
          "name": "stdout",
          "text": [
            "Random Forest Regressor RMSE: 991988.65\n",
            "Decision Tree Regressor RMSE: 1025599.70\n",
            "Gradient Boosting Regressor RMSE: 991811.31\n",
            "Example data for prediction:\n",
            "   sqft_living  bedrooms  bathrooms  city_Auburn  city_Beaux Arts Village  \\\n",
            "0         1500         3          2          0.0                      0.0   \n",
            "\n",
            "   city_Bellevue  city_Black Diamond  city_Bothell  city_Burien  \\\n",
            "0            0.0                 0.0           0.0          0.0   \n",
            "\n",
            "   city_Carnation  ...  city_SeaTac  city_Seattle  city_Shoreline  \\\n",
            "0             0.0  ...          0.0           1.0             0.0   \n",
            "\n",
            "   city_Skykomish  city_Snoqualmie  city_Snoqualmie Pass  city_Tukwila  \\\n",
            "0             0.0              0.0                   0.0           0.0   \n",
            "\n",
            "   city_Vashon  city_Woodinville  city_Yarrow Point  \n",
            "0          0.0               0.0                0.0  \n",
            "\n",
            "[1 rows x 46 columns]\n",
            "Linear Regression prediction: $486,779.68\n",
            "Random Forest Regressor prediction: $435,526.56\n",
            "Decision Tree Regressor prediction: $300,000.00\n",
            "Gradient Boosting Regressor prediction: $461,542.95\n"
          ]
        }
      ],
      "source": [
        "import pandas as pd\n",
        "from sklearn.model_selection import train_test_split\n",
        "from sklearn.preprocessing import OneHotEncoder\n",
        "from sklearn.linear_model import LinearRegression\n",
        "from sklearn.ensemble import RandomForestRegressor, GradientBoostingRegressor\n",
        "from sklearn.tree import DecisionTreeRegressor\n",
        "from sklearn.metrics import mean_squared_error\n",
        "df = pd.read_csv('data.csv')\n",
        "print(df.head())\n",
        "X = df[['sqft_living', 'bedrooms', 'bathrooms']]\n",
        "y = df['price']\n",
        "encoder = None\n",
        "encoded_features = []\n",
        "if 'city' in df.columns:\n",
        "    encoder = OneHotEncoder(drop='first', sparse=False)\n",
        "    city_encoded = encoder.fit_transform(df[['city']])\n",
        "    city_encoded_df = pd.DataFrame(city_encoded, columns=encoder.get_feature_names_out(['city']))\n",
        "    X = pd.concat([X, city_encoded_df], axis=1)\n",
        "    encoded_features = encoder.get_feature_names_out(['city'])\n",
        "\n",
        "#splitting the data\n",
        "X_train, X_test, y_train, y_test = train_test_split(X, y, test_size=0.2, random_state=42)\n",
        "models = {\n",
        "    'Linear Regression': LinearRegression(),\n",
        "    'Random Forest Regressor': RandomForestRegressor(n_estimators=100, random_state=42),\n",
        "    'Decision Tree Regressor': DecisionTreeRegressor(random_state=42),\n",
        "    'Gradient Boosting Regressor': GradientBoostingRegressor(n_estimators=100, random_state=42)\n",
        "}\n",
        "for name, model in models.items():\n",
        "    model.fit(X_train, y_train)\n",
        "    y_pred = model.predict(X_test)\n",
        "    mse = mean_squared_error(y_test, y_pred)\n",
        "    rmse = mse ** 0.5\n",
        "    print(f'{name} RMSE: {rmse:.2f}')\n",
        "\n",
        "#Example\n",
        "example = pd.DataFrame([[1500, 3, 2, 'Seattle']], columns=['sqft_living', 'bedrooms', 'bathrooms', 'city'])\n",
        "if 'city' in df.columns and encoder is not None:\n",
        "    example_encoded = encoder.transform(example[['city']])\n",
        "    example_encoded_df = pd.DataFrame(example_encoded, columns=encoded_features)\n",
        "    example = example.drop('city', axis=1)\n",
        "    example = pd.concat([example, example_encoded_df], axis=1)\n",
        "example = example.reindex(columns=X.columns, fill_value=0)\n",
        "print(\"Example data for prediction:\")\n",
        "print(example)\n",
        "for name, model in models.items():\n",
        "    prediction = model.predict(example)\n",
        "    print(f'{name} prediction: ${prediction[0]:,.2f}')\n"
      ]
    }
  ]
}
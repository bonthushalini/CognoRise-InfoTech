{
  "nbformat": 4,
  "nbformat_minor": 0,
  "metadata": {
    "colab": {
      "provenance": []
    },
    "kernelspec": {
      "name": "python3",
      "display_name": "Python 3"
    },
    "language_info": {
      "name": "python"
    }
  },
  "cells": [
    {
      "cell_type": "markdown",
      "source": [
        "**Task-2 : SPAM EMAIL DETECTION**"
      ],
      "metadata": {
        "id": "dzfOuBtLJtiR"
      }
    },
    {
      "cell_type": "code",
      "execution_count": null,
      "metadata": {
        "id": "p7HEY-OCJn7v",
        "colab": {
          "base_uri": "https://localhost:8080/"
        },
        "outputId": "20019c7f-342b-4ff8-ff4a-341946b8e8f3"
      },
      "outputs": [
        {
          "output_type": "stream",
          "name": "stdout",
          "text": [
            "Logistic Regression Accuracy: 0.99\n",
            "Random Forest Accuracy: 0.98\n",
            "AdaBoost Accuracy: 0.97\n",
            "KNN Accuracy: 0.93\n",
            "The example email is predicted to be: spam\n"
          ]
        }
      ],
      "source": [
        "import pandas as pd\n",
        "from sklearn.feature_extraction.text import CountVectorizer\n",
        "from sklearn.model_selection import train_test_split\n",
        "from sklearn.linear_model import LogisticRegression\n",
        "from sklearn.ensemble import RandomForestClassifier, AdaBoostClassifier\n",
        "from sklearn.neighbors import KNeighborsClassifier\n",
        "from sklearn.metrics import accuracy_score\n",
        "\n",
        "data = pd.read_csv('/content/spam.csv')\n",
        "X = data['Message']\n",
        "y = data['Category']\n",
        "vectorizer = CountVectorizer()\n",
        "X_vectorized = vectorizer.fit_transform(X)\n",
        "\n",
        "# Splitting the data\n",
        "X_train, X_test, y_train, y_test = train_test_split(X_vectorized, y, test_size=0.2, random_state=42)\n",
        "models = {\n",
        "    'Logistic Regression': LogisticRegression(max_iter=1000),\n",
        "    'Random Forest': RandomForestClassifier(),\n",
        "    'AdaBoost': AdaBoostClassifier(),\n",
        "    'KNN': KNeighborsClassifier()\n",
        "}\n",
        "\n",
        "# Train the models\n",
        "for name, model in models.items():\n",
        "    model.fit(X_train, y_train)\n",
        "    y_pred = model.predict(X_test)\n",
        "    accuracy = accuracy_score(y_test, y_pred)\n",
        "    print(f'{name} Accuracy: {accuracy:.2f}')\n",
        "\n",
        "def predict_spam_or_ham(email_text, model, vectorizer):\n",
        "    email_vectorized = vectorizer.transform([email_text])\n",
        "    prediction = model.predict(email_vectorized)\n",
        "    return prediction[0]\n",
        "\n",
        "#Example\n",
        "example_email = \"Thanks for your subscription to Ringtone UK your mobile will be charged A$5/month Please confirm by replying YES or NO.If you reply NO you will not be charged\"\n",
        "best_model = models['Logistic Regression']\n",
        "prediction = predict_spam_or_ham(example_email, best_model, vectorizer)\n",
        "print(f'The example email is predicted to be: {prediction}')\n"
      ]
    }
  ]
}